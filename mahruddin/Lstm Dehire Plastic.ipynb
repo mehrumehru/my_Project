{
 "cells": [
  {
   "cell_type": "code",
   "execution_count": 1,
   "metadata": {
    "id": "0GqcVD4p4Qsb"
   },
   "outputs": [],
   "source": [
    "import pandas as pd\n",
    "import numpy as np\n",
    "import matplotlib.pyplot as plt\n",
    "from sklearn.preprocessing import MinMaxScaler\n",
    "from keras.preprocessing.sequence import TimeseriesGenerator"
   ]
  },
  {
   "cell_type": "code",
   "execution_count": 2,
   "metadata": {
    "id": "ToV_rjf-4bc2"
   },
   "outputs": [],
   "source": [
    "path = 'cleaned_dehire_Plastic_data.csv'"
   ]
  },
  {
   "cell_type": "code",
   "execution_count": 3,
   "metadata": {
    "colab": {
     "base_uri": "https://localhost:8080/",
     "height": 1000
    },
    "id": "qTUc7GST4jcx",
    "outputId": "9f500b9a-23c4-4ca8-8ad6-5df991e6c807"
   },
   "outputs": [
    {
     "data": {
      "text/html": [
       "<div>\n",
       "<style scoped>\n",
       "    .dataframe tbody tr th:only-of-type {\n",
       "        vertical-align: middle;\n",
       "    }\n",
       "\n",
       "    .dataframe tbody tr th {\n",
       "        vertical-align: top;\n",
       "    }\n",
       "\n",
       "    .dataframe thead th {\n",
       "        text-align: right;\n",
       "    }\n",
       "</style>\n",
       "<table border=\"1\" class=\"dataframe\">\n",
       "  <thead>\n",
       "    <tr style=\"text-align: right;\">\n",
       "      <th></th>\n",
       "      <th>QUANTITY</th>\n",
       "    </tr>\n",
       "    <tr>\n",
       "      <th>DATE</th>\n",
       "      <th></th>\n",
       "    </tr>\n",
       "  </thead>\n",
       "  <tbody>\n",
       "    <tr>\n",
       "      <th>2019-12-01</th>\n",
       "      <td>10942</td>\n",
       "    </tr>\n",
       "    <tr>\n",
       "      <th>2020-01-01</th>\n",
       "      <td>11941</td>\n",
       "    </tr>\n",
       "    <tr>\n",
       "      <th>2020-02-01</th>\n",
       "      <td>12103</td>\n",
       "    </tr>\n",
       "    <tr>\n",
       "      <th>2020-03-01</th>\n",
       "      <td>12793</td>\n",
       "    </tr>\n",
       "    <tr>\n",
       "      <th>2020-04-01</th>\n",
       "      <td>12169</td>\n",
       "    </tr>\n",
       "    <tr>\n",
       "      <th>2020-05-01</th>\n",
       "      <td>12374</td>\n",
       "    </tr>\n",
       "    <tr>\n",
       "      <th>2020-06-01</th>\n",
       "      <td>12185</td>\n",
       "    </tr>\n",
       "    <tr>\n",
       "      <th>2020-07-01</th>\n",
       "      <td>12389</td>\n",
       "    </tr>\n",
       "    <tr>\n",
       "      <th>2020-08-01</th>\n",
       "      <td>12345</td>\n",
       "    </tr>\n",
       "    <tr>\n",
       "      <th>2020-09-01</th>\n",
       "      <td>12149</td>\n",
       "    </tr>\n",
       "    <tr>\n",
       "      <th>2020-10-01</th>\n",
       "      <td>12642</td>\n",
       "    </tr>\n",
       "    <tr>\n",
       "      <th>2020-11-01</th>\n",
       "      <td>12891</td>\n",
       "    </tr>\n",
       "    <tr>\n",
       "      <th>2020-12-01</th>\n",
       "      <td>11789</td>\n",
       "    </tr>\n",
       "    <tr>\n",
       "      <th>2021-01-01</th>\n",
       "      <td>12788</td>\n",
       "    </tr>\n",
       "    <tr>\n",
       "      <th>2021-02-01</th>\n",
       "      <td>12950</td>\n",
       "    </tr>\n",
       "    <tr>\n",
       "      <th>2021-03-01</th>\n",
       "      <td>13640</td>\n",
       "    </tr>\n",
       "    <tr>\n",
       "      <th>2021-04-01</th>\n",
       "      <td>13016</td>\n",
       "    </tr>\n",
       "    <tr>\n",
       "      <th>2021-05-01</th>\n",
       "      <td>13221</td>\n",
       "    </tr>\n",
       "    <tr>\n",
       "      <th>2021-06-01</th>\n",
       "      <td>13032</td>\n",
       "    </tr>\n",
       "    <tr>\n",
       "      <th>2021-07-01</th>\n",
       "      <td>13236</td>\n",
       "    </tr>\n",
       "    <tr>\n",
       "      <th>2021-08-01</th>\n",
       "      <td>13192</td>\n",
       "    </tr>\n",
       "    <tr>\n",
       "      <th>2021-09-01</th>\n",
       "      <td>12996</td>\n",
       "    </tr>\n",
       "    <tr>\n",
       "      <th>2021-10-01</th>\n",
       "      <td>13489</td>\n",
       "    </tr>\n",
       "    <tr>\n",
       "      <th>2021-11-01</th>\n",
       "      <td>13738</td>\n",
       "    </tr>\n",
       "    <tr>\n",
       "      <th>2021-12-01</th>\n",
       "      <td>12636</td>\n",
       "    </tr>\n",
       "    <tr>\n",
       "      <th>2022-01-01</th>\n",
       "      <td>13635</td>\n",
       "    </tr>\n",
       "    <tr>\n",
       "      <th>2022-02-01</th>\n",
       "      <td>13797</td>\n",
       "    </tr>\n",
       "    <tr>\n",
       "      <th>2022-03-01</th>\n",
       "      <td>14487</td>\n",
       "    </tr>\n",
       "    <tr>\n",
       "      <th>2022-04-01</th>\n",
       "      <td>13863</td>\n",
       "    </tr>\n",
       "    <tr>\n",
       "      <th>2022-05-01</th>\n",
       "      <td>14068</td>\n",
       "    </tr>\n",
       "    <tr>\n",
       "      <th>2022-06-01</th>\n",
       "      <td>13879</td>\n",
       "    </tr>\n",
       "    <tr>\n",
       "      <th>2022-07-01</th>\n",
       "      <td>14083</td>\n",
       "    </tr>\n",
       "    <tr>\n",
       "      <th>2022-08-01</th>\n",
       "      <td>14039</td>\n",
       "    </tr>\n",
       "    <tr>\n",
       "      <th>2022-09-01</th>\n",
       "      <td>13844</td>\n",
       "    </tr>\n",
       "    <tr>\n",
       "      <th>2022-10-01</th>\n",
       "      <td>14336</td>\n",
       "    </tr>\n",
       "    <tr>\n",
       "      <th>2022-11-01</th>\n",
       "      <td>14585</td>\n",
       "    </tr>\n",
       "  </tbody>\n",
       "</table>\n",
       "</div>"
      ],
      "text/plain": [
       "            QUANTITY\n",
       "DATE                \n",
       "2019-12-01     10942\n",
       "2020-01-01     11941\n",
       "2020-02-01     12103\n",
       "2020-03-01     12793\n",
       "2020-04-01     12169\n",
       "2020-05-01     12374\n",
       "2020-06-01     12185\n",
       "2020-07-01     12389\n",
       "2020-08-01     12345\n",
       "2020-09-01     12149\n",
       "2020-10-01     12642\n",
       "2020-11-01     12891\n",
       "2020-12-01     11789\n",
       "2021-01-01     12788\n",
       "2021-02-01     12950\n",
       "2021-03-01     13640\n",
       "2021-04-01     13016\n",
       "2021-05-01     13221\n",
       "2021-06-01     13032\n",
       "2021-07-01     13236\n",
       "2021-08-01     13192\n",
       "2021-09-01     12996\n",
       "2021-10-01     13489\n",
       "2021-11-01     13738\n",
       "2021-12-01     12636\n",
       "2022-01-01     13635\n",
       "2022-02-01     13797\n",
       "2022-03-01     14487\n",
       "2022-04-01     13863\n",
       "2022-05-01     14068\n",
       "2022-06-01     13879\n",
       "2022-07-01     14083\n",
       "2022-08-01     14039\n",
       "2022-09-01     13844\n",
       "2022-10-01     14336\n",
       "2022-11-01     14585"
      ]
     },
     "execution_count": 3,
     "metadata": {},
     "output_type": "execute_result"
    }
   ],
   "source": [
    "df = pd.read_csv(path, parse_dates=['DATE'])\n",
    "df = df.set_index('DATE')\n",
    "df"
   ]
  },
  {
   "cell_type": "code",
   "execution_count": 4,
   "metadata": {},
   "outputs": [
    {
     "data": {
      "text/plain": [
       "(36, 1)"
      ]
     },
     "execution_count": 4,
     "metadata": {},
     "output_type": "execute_result"
    }
   ],
   "source": [
    "df.shape"
   ]
  },
  {
   "cell_type": "code",
   "execution_count": 5,
   "metadata": {
    "id": "CQJNTiWU4rgR"
   },
   "outputs": [],
   "source": [
    "train=df.head(24)\n",
    "test=df.tail(12)"
   ]
  },
  {
   "cell_type": "code",
   "execution_count": 31,
   "metadata": {},
   "outputs": [],
   "source": [
    "test.to_csv('test.csv')"
   ]
  },
  {
   "cell_type": "code",
   "execution_count": 6,
   "metadata": {
    "id": "PnFeKufl4zt1"
   },
   "outputs": [],
   "source": [
    "from sklearn.preprocessing import MinMaxScaler\n",
    "scaler = MinMaxScaler()"
   ]
  },
  {
   "cell_type": "code",
   "execution_count": 7,
   "metadata": {
    "id": "mvHZn2qU433f"
   },
   "outputs": [],
   "source": [
    "scale = scaler.fit(train)\n",
    "import joblib\n",
    "joblib.dump(scale,'scale')\n",
    "scaled_train = scaler.transform(train)\n",
    "scaled_test = scaler.transform(test)"
   ]
  },
  {
   "cell_type": "code",
   "execution_count": 8,
   "metadata": {
    "id": "qyaWTCj85TVw"
   },
   "outputs": [],
   "source": [
    "# define generator\n",
    "n_input = 12\n",
    "n_features = 1\n",
    "generator = TimeseriesGenerator(scaled_train, scaled_train, length=n_input, batch_size=1)"
   ]
  },
  {
   "cell_type": "code",
   "execution_count": 9,
   "metadata": {},
   "outputs": [
    {
     "data": {
      "text/plain": [
       "<keras.preprocessing.sequence.TimeseriesGenerator at 0x26ed6d1bfd0>"
      ]
     },
     "execution_count": 9,
     "metadata": {},
     "output_type": "execute_result"
    }
   ],
   "source": [
    "generator"
   ]
  },
  {
   "cell_type": "code",
   "execution_count": 10,
   "metadata": {
    "colab": {
     "base_uri": "https://localhost:8080/"
    },
    "id": "cnlPizw05Vkb",
    "outputId": "2e04d38e-9827-401a-cb5a-8d9bae6a2ac8"
   },
   "outputs": [
    {
     "name": "stdout",
     "output_type": "stream",
     "text": [
      "Given the Array: \n",
      "[0.         0.35729614 0.41523605 0.66201717 0.4388412  0.51216023\n",
      " 0.44456366 0.51752504 0.50178827 0.43168813 0.60801144 0.69706724]\n",
      "Predict this y: \n",
      " [[0.30293276]]\n"
     ]
    }
   ],
   "source": [
    "X,y = generator[0]\n",
    "print(f'Given the Array: \\n{X.flatten()}')\n",
    "print(f'Predict this y: \\n {y}')"
   ]
  },
  {
   "cell_type": "code",
   "execution_count": 11,
   "metadata": {
    "id": "d6OanG8E5api"
   },
   "outputs": [],
   "source": [
    "# We do the same thing, but now instead for 12 months\n",
    "n_input = 12\n",
    "generator = TimeseriesGenerator(scaled_train, scaled_train, length=n_input, batch_size=1)"
   ]
  },
  {
   "cell_type": "code",
   "execution_count": 12,
   "metadata": {
    "id": "o0NYC9Oc5flg"
   },
   "outputs": [],
   "source": [
    "from keras.models import Sequential\n",
    "from keras.layers import Dense\n",
    "from keras.layers import LSTM"
   ]
  },
  {
   "cell_type": "code",
   "execution_count": 13,
   "metadata": {
    "id": "h6Y_80tA5jx-"
   },
   "outputs": [],
   "source": [
    "# define model\n",
    "model = Sequential()\n",
    "model.add(LSTM(100, activation='relu', input_shape=(n_input, n_features)))\n",
    "model.add(Dense(1))\n",
    "model.compile(optimizer='adam', loss='mse')"
   ]
  },
  {
   "cell_type": "code",
   "execution_count": 14,
   "metadata": {
    "colab": {
     "base_uri": "https://localhost:8080/"
    },
    "id": "yLB-aOLK5ocG",
    "outputId": "751dc856-e7d9-4f5a-8425-1b4e8606531d"
   },
   "outputs": [
    {
     "name": "stdout",
     "output_type": "stream",
     "text": [
      "Model: \"sequential\"\n",
      "_________________________________________________________________\n",
      " Layer (type)                Output Shape              Param #   \n",
      "=================================================================\n",
      " lstm (LSTM)                 (None, 100)               40800     \n",
      "                                                                 \n",
      " dense (Dense)               (None, 1)                 101       \n",
      "                                                                 \n",
      "=================================================================\n",
      "Total params: 40,901\n",
      "Trainable params: 40,901\n",
      "Non-trainable params: 0\n",
      "_________________________________________________________________\n"
     ]
    }
   ],
   "source": [
    "model.summary()"
   ]
  },
  {
   "cell_type": "code",
   "execution_count": 15,
   "metadata": {
    "colab": {
     "base_uri": "https://localhost:8080/"
    },
    "id": "hmnYdcWQ5tqR",
    "outputId": "6e7208d0-447d-401a-87b7-5c3ad8ca4aa1"
   },
   "outputs": [
    {
     "name": "stdout",
     "output_type": "stream",
     "text": [
      "Epoch 1/50\n",
      "12/12 [==============================] - 2s 7ms/step - loss: 0.5153\n",
      "Epoch 2/50\n",
      "12/12 [==============================] - 0s 6ms/step - loss: 0.1834\n",
      "Epoch 3/50\n",
      "12/12 [==============================] - 0s 6ms/step - loss: 0.0208\n",
      "Epoch 4/50\n",
      "12/12 [==============================] - 0s 6ms/step - loss: 0.0240\n",
      "Epoch 5/50\n",
      "12/12 [==============================] - 0s 6ms/step - loss: 0.0184\n",
      "Epoch 6/50\n",
      "12/12 [==============================] - 0s 6ms/step - loss: 0.0206\n",
      "Epoch 7/50\n",
      "12/12 [==============================] - 0s 6ms/step - loss: 0.0194\n",
      "Epoch 8/50\n",
      "12/12 [==============================] - 0s 6ms/step - loss: 0.0206\n",
      "Epoch 9/50\n",
      "12/12 [==============================] - 0s 6ms/step - loss: 0.0203\n",
      "Epoch 10/50\n",
      "12/12 [==============================] - 0s 6ms/step - loss: 0.0223\n",
      "Epoch 11/50\n",
      "12/12 [==============================] - 0s 6ms/step - loss: 0.0203\n",
      "Epoch 12/50\n",
      "12/12 [==============================] - 0s 6ms/step - loss: 0.0187\n",
      "Epoch 13/50\n",
      "12/12 [==============================] - 0s 6ms/step - loss: 0.0192\n",
      "Epoch 14/50\n",
      "12/12 [==============================] - 0s 5ms/step - loss: 0.0193\n",
      "Epoch 15/50\n",
      "12/12 [==============================] - 0s 7ms/step - loss: 0.0212\n",
      "Epoch 16/50\n",
      "12/12 [==============================] - 0s 6ms/step - loss: 0.0198\n",
      "Epoch 17/50\n",
      "12/12 [==============================] - 0s 7ms/step - loss: 0.0193\n",
      "Epoch 18/50\n",
      "12/12 [==============================] - 0s 6ms/step - loss: 0.0190\n",
      "Epoch 19/50\n",
      "12/12 [==============================] - 0s 6ms/step - loss: 0.0207\n",
      "Epoch 20/50\n",
      "12/12 [==============================] - 0s 6ms/step - loss: 0.0207\n",
      "Epoch 21/50\n",
      "12/12 [==============================] - 0s 6ms/step - loss: 0.0186\n",
      "Epoch 22/50\n",
      "12/12 [==============================] - 0s 6ms/step - loss: 0.0230\n",
      "Epoch 23/50\n",
      "12/12 [==============================] - 0s 6ms/step - loss: 0.0268\n",
      "Epoch 24/50\n",
      "12/12 [==============================] - 0s 7ms/step - loss: 0.0236\n",
      "Epoch 25/50\n",
      "12/12 [==============================] - 0s 7ms/step - loss: 0.0200\n",
      "Epoch 26/50\n",
      "12/12 [==============================] - 0s 6ms/step - loss: 0.0201\n",
      "Epoch 27/50\n",
      "12/12 [==============================] - 0s 6ms/step - loss: 0.0191\n",
      "Epoch 28/50\n",
      "12/12 [==============================] - 0s 6ms/step - loss: 0.0185\n",
      "Epoch 29/50\n",
      "12/12 [==============================] - 0s 6ms/step - loss: 0.0188\n",
      "Epoch 30/50\n",
      "12/12 [==============================] - 0s 7ms/step - loss: 0.0184\n",
      "Epoch 31/50\n",
      "12/12 [==============================] - 0s 6ms/step - loss: 0.0202\n",
      "Epoch 32/50\n",
      "12/12 [==============================] - 0s 6ms/step - loss: 0.0186\n",
      "Epoch 33/50\n",
      "12/12 [==============================] - 0s 6ms/step - loss: 0.0192\n",
      "Epoch 34/50\n",
      "12/12 [==============================] - 0s 7ms/step - loss: 0.0193\n",
      "Epoch 35/50\n",
      "12/12 [==============================] - 0s 7ms/step - loss: 0.0209\n",
      "Epoch 36/50\n",
      "12/12 [==============================] - 0s 7ms/step - loss: 0.0209\n",
      "Epoch 37/50\n",
      "12/12 [==============================] - 0s 5ms/step - loss: 0.0206\n",
      "Epoch 38/50\n",
      "12/12 [==============================] - 0s 6ms/step - loss: 0.0202\n",
      "Epoch 39/50\n",
      "12/12 [==============================] - 0s 6ms/step - loss: 0.0260\n",
      "Epoch 40/50\n",
      "12/12 [==============================] - 0s 6ms/step - loss: 0.0258\n",
      "Epoch 41/50\n",
      "12/12 [==============================] - 0s 7ms/step - loss: 0.0260\n",
      "Epoch 42/50\n",
      "12/12 [==============================] - 0s 6ms/step - loss: 0.0251\n",
      "Epoch 43/50\n",
      "12/12 [==============================] - 0s 6ms/step - loss: 0.0326\n",
      "Epoch 44/50\n",
      "12/12 [==============================] - 0s 7ms/step - loss: 0.0229\n",
      "Epoch 45/50\n",
      "12/12 [==============================] - 0s 6ms/step - loss: 0.0204\n",
      "Epoch 46/50\n",
      "12/12 [==============================] - 0s 6ms/step - loss: 0.0184\n",
      "Epoch 47/50\n",
      "12/12 [==============================] - 0s 7ms/step - loss: 0.0180\n",
      "Epoch 48/50\n",
      "12/12 [==============================] - 0s 5ms/step - loss: 0.0184\n",
      "Epoch 49/50\n",
      "12/12 [==============================] - 0s 7ms/step - loss: 0.0174\n",
      "Epoch 50/50\n",
      "12/12 [==============================] - 0s 7ms/step - loss: 0.0207\n"
     ]
    },
    {
     "data": {
      "text/plain": [
       "<keras.callbacks.History at 0x26ed7034dc0>"
      ]
     },
     "execution_count": 15,
     "metadata": {},
     "output_type": "execute_result"
    }
   ],
   "source": [
    "model.fit(generator,epochs=50)"
   ]
  },
  {
   "cell_type": "code",
   "execution_count": 16,
   "metadata": {
    "colab": {
     "base_uri": "https://localhost:8080/",
     "height": 282
    },
    "id": "VsuspMa151nJ",
    "outputId": "ef93ef60-6c3f-4fa5-c253-dd00886aae8e"
   },
   "outputs": [
    {
     "data": {
      "text/plain": [
       "[<matplotlib.lines.Line2D at 0x26ed94c12e0>]"
      ]
     },
     "execution_count": 16,
     "metadata": {},
     "output_type": "execute_result"
    },
    {
     "data": {
      "image/png": "[encoded data removed]",
      "text/plain": [
       "<Figure size 640x480 with 1 Axes>"
      ]
     },
     "metadata": {},
     "output_type": "display_data"
    }
   ],
   "source": [
    "loss_per_epoch = model.history.history['loss']\n",
    "plt.plot(range(len(loss_per_epoch)),loss_per_epoch)"
   ]
  },
  {
   "cell_type": "code",
   "execution_count": 17,
   "metadata": {
    "id": "M5pq0hcZ57Ed"
   },
   "outputs": [],
   "source": [
    "last_train_batch = scaled_train[-12:]"
   ]
  },
  {
   "cell_type": "code",
   "execution_count": 18,
   "metadata": {},
   "outputs": [
    {
     "data": {
      "text/plain": [
       "12"
      ]
     },
     "execution_count": 18,
     "metadata": {},
     "output_type": "execute_result"
    }
   ],
   "source": [
    "n_input"
   ]
  },
  {
   "cell_type": "code",
   "execution_count": 19,
   "metadata": {},
   "outputs": [
    {
     "data": {
      "text/plain": [
       "1"
      ]
     },
     "execution_count": 19,
     "metadata": {},
     "output_type": "execute_result"
    }
   ],
   "source": [
    "n_features"
   ]
  },
  {
   "cell_type": "code",
   "execution_count": 20,
   "metadata": {
    "id": "c6YSANXw5_ua"
   },
   "outputs": [],
   "source": [
    "last_train_batch = last_train_batch.reshape((1, n_input, n_features))"
   ]
  },
  {
   "cell_type": "code",
   "execution_count": 21,
   "metadata": {
    "colab": {
     "base_uri": "https://localhost:8080/"
    },
    "id": "_UExoul96FHO",
    "outputId": "a5f32dd6-31d1-4ba9-8a9f-ce3112d21653"
   },
   "outputs": [
    {
     "name": "stdout",
     "output_type": "stream",
     "text": [
      "1/1 [==============================] - 0s 232ms/step\n"
     ]
    },
    {
     "data": {
      "text/plain": [
       "array([[0.9346748]], dtype=float32)"
      ]
     },
     "execution_count": 21,
     "metadata": {},
     "output_type": "execute_result"
    }
   ],
   "source": [
    "model.predict(last_train_batch)"
   ]
  },
  {
   "cell_type": "code",
   "execution_count": 22,
   "metadata": {
    "colab": {
     "base_uri": "https://localhost:8080/"
    },
    "id": "a8ZWXs076Mjg",
    "outputId": "3be17d27-5cd1-4210-a2cc-f3de7e9eb588"
   },
   "outputs": [
    {
     "data": {
      "text/plain": [
       "array([0.60586552])"
      ]
     },
     "execution_count": 22,
     "metadata": {},
     "output_type": "execute_result"
    }
   ],
   "source": [
    "scaled_test[0]"
   ]
  },
  {
   "cell_type": "code",
   "execution_count": 23,
   "metadata": {
    "colab": {
     "base_uri": "https://localhost:8080/"
    },
    "id": "M24SUUYh6Vqc",
    "outputId": "865cf497-0084-498d-e082-a39979c36452"
   },
   "outputs": [
    {
     "name": "stdout",
     "output_type": "stream",
     "text": [
      "1/1 [==============================] - 0s 23ms/step\n",
      "1/1 [==============================] - 0s 23ms/step\n",
      "1/1 [==============================] - 0s 24ms/step\n",
      "1/1 [==============================] - 0s 23ms/step\n",
      "1/1 [==============================] - 0s 24ms/step\n",
      "1/1 [==============================] - 0s 25ms/step\n",
      "1/1 [==============================] - 0s 25ms/step\n",
      "1/1 [==============================] - 0s 24ms/step\n",
      "1/1 [==============================] - 0s 22ms/step\n",
      "1/1 [==============================] - 0s 23ms/step\n",
      "1/1 [==============================] - 0s 23ms/step\n",
      "1/1 [==============================] - 0s 26ms/step\n"
     ]
    }
   ],
   "source": [
    "test_predictions = []\n",
    "\n",
    "first_eval_batch = scaled_train[-n_input:]\n",
    "current_batch = first_eval_batch.reshape((1, n_input, n_features))\n",
    "\n",
    "for i in range(len(test)):\n",
    "    \n",
    "    # get the prediction value for the first batch\n",
    "    current_pred = model.predict(current_batch)[0]\n",
    "    \n",
    "    # append the prediction into the array\n",
    "    test_predictions.append(current_pred) \n",
    "    \n",
    "    # use the prediction to update the batch and remove the first value\n",
    "    current_batch = np.append(current_batch[:,1:,:],[[current_pred]],axis=1)"
   ]
  },
  {
   "cell_type": "code",
   "execution_count": 24,
   "metadata": {
    "colab": {
     "base_uri": "https://localhost:8080/"
    },
    "id": "mViTWs8m6ezs",
    "outputId": "a31b81f0-0555-4636-e8d8-27d3a6e6f34b"
   },
   "outputs": [
    {
     "data": {
      "text/plain": [
       "[array([0.9346748], dtype=float32),\n",
       " array([1.0187516], dtype=float32),\n",
       " array([1.0675133], dtype=float32),\n",
       " array([1.0957732], dtype=float32),\n",
       " array([1.1008377], dtype=float32),\n",
       " array([1.1367016], dtype=float32),\n",
       " array([1.1731366], dtype=float32),\n",
       " array([1.2207693], dtype=float32),\n",
       " array([1.2608202], dtype=float32),\n",
       " array([1.3275969], dtype=float32),\n",
       " array([1.4101714], dtype=float32),\n",
       " array([1.468231], dtype=float32)]"
      ]
     },
     "execution_count": 24,
     "metadata": {},
     "output_type": "execute_result"
    }
   ],
   "source": [
    "test_predictions"
   ]
  },
  {
   "cell_type": "code",
   "execution_count": 25,
   "metadata": {
    "colab": {
     "base_uri": "https://localhost:8080/",
     "height": 238
    },
    "id": "hi-O9qbm6jar",
    "outputId": "acc1e3da-a945-43c8-9621-82467986815f"
   },
   "outputs": [
    {
     "data": {
      "text/html": [
       "<div>\n",
       "<style scoped>\n",
       "    .dataframe tbody tr th:only-of-type {\n",
       "        vertical-align: middle;\n",
       "    }\n",
       "\n",
       "    .dataframe tbody tr th {\n",
       "        vertical-align: top;\n",
       "    }\n",
       "\n",
       "    .dataframe thead th {\n",
       "        text-align: right;\n",
       "    }\n",
       "</style>\n",
       "<table border=\"1\" class=\"dataframe\">\n",
       "  <thead>\n",
       "    <tr style=\"text-align: right;\">\n",
       "      <th></th>\n",
       "      <th>QUANTITY</th>\n",
       "    </tr>\n",
       "    <tr>\n",
       "      <th>DATE</th>\n",
       "      <th></th>\n",
       "    </tr>\n",
       "  </thead>\n",
       "  <tbody>\n",
       "    <tr>\n",
       "      <th>2021-12-01</th>\n",
       "      <td>12636</td>\n",
       "    </tr>\n",
       "    <tr>\n",
       "      <th>2022-01-01</th>\n",
       "      <td>13635</td>\n",
       "    </tr>\n",
       "    <tr>\n",
       "      <th>2022-02-01</th>\n",
       "      <td>13797</td>\n",
       "    </tr>\n",
       "    <tr>\n",
       "      <th>2022-03-01</th>\n",
       "      <td>14487</td>\n",
       "    </tr>\n",
       "    <tr>\n",
       "      <th>2022-04-01</th>\n",
       "      <td>13863</td>\n",
       "    </tr>\n",
       "  </tbody>\n",
       "</table>\n",
       "</div>"
      ],
      "text/plain": [
       "            QUANTITY\n",
       "DATE                \n",
       "2021-12-01     12636\n",
       "2022-01-01     13635\n",
       "2022-02-01     13797\n",
       "2022-03-01     14487\n",
       "2022-04-01     13863"
      ]
     },
     "execution_count": 25,
     "metadata": {},
     "output_type": "execute_result"
    }
   ],
   "source": [
    "test.head()"
   ]
  },
  {
   "cell_type": "code",
   "execution_count": 26,
   "metadata": {
    "id": "vEOlcFhB6p1e"
   },
   "outputs": [],
   "source": [
    "true_predictions = scaler.inverse_transform(test_predictions)"
   ]
  },
  {
   "cell_type": "code",
   "execution_count": 27,
   "metadata": {
    "colab": {
     "base_uri": "https://localhost:8080/"
    },
    "id": "tVHzKdkc6u7y",
    "outputId": "f0fcd84c-0fbb-49bd-c7c3-fc1f12de3f3b"
   },
   "outputs": [
    {
     "name": "stderr",
     "output_type": "stream",
     "text": [
      "C:\\Users\\mma\\AppData\\Local\\Temp\\ipykernel_11440\\4269337381.py:1: SettingWithCopyWarning: \n",
      "A value is trying to be set on a copy of a slice from a DataFrame.\n",
      "Try using .loc[row_indexer,col_indexer] = value instead\n",
      "\n",
      "See the caveats in the documentation: https://pandas.pydata.org/pandas-docs/stable/user_guide/indexing.html#returning-a-view-versus-a-copy\n",
      "  test['Predictions'] = true_predictions\n"
     ]
    }
   ],
   "source": [
    "test['Predictions'] = true_predictions"
   ]
  },
  {
   "cell_type": "code",
   "execution_count": 28,
   "metadata": {
    "colab": {
     "base_uri": "https://localhost:8080/",
     "height": 362
    },
    "id": "bUsogzl160H_",
    "outputId": "cb029361-a7ef-4399-96ca-59e001be4ecc"
   },
   "outputs": [
    {
     "data": {
      "text/plain": [
       "<AxesSubplot: xlabel='DATE'>"
      ]
     },
     "execution_count": 28,
     "metadata": {},
     "output_type": "execute_result"
    },
    {
     "data": {
      "image/png": "[encoded data removed]",
      "text/plain": [
       "<Figure size 1400x500 with 1 Axes>"
      ]
     },
     "metadata": {},
     "output_type": "display_data"
    }
   ],
   "source": [
    "test.plot(figsize=(14,5))   "
   ]
  },
  {
   "cell_type": "code",
   "execution_count": 29,
   "metadata": {
    "colab": {
     "base_uri": "https://localhost:8080/"
    },
    "id": "KAWCDonc65AU",
    "outputId": "9a3671f3-4d82-42c2-fb15-e3122f99eab0"
   },
   "outputs": [
    {
     "name": "stdout",
     "output_type": "stream",
     "text": [
      "473.57160218742354\n"
     ]
    }
   ],
   "source": [
    "from sklearn.metrics import mean_squared_error\n",
    "from math import sqrt\n",
    "rmse=sqrt(mean_squared_error(test['QUANTITY'],test['Predictions']))\n",
    "print(rmse)"
   ]
  },
  {
   "cell_type": "code",
   "execution_count": 30,
   "metadata": {},
   "outputs": [],
   "source": [
    "model.save('Forecasting.h5')"
   ]
  },
  {
   "cell_type": "code",
   "execution_count": null,
   "metadata": {},
   "outputs": [],
   "source": []
  }
 ],
 "metadata": {
  "colab": {
   "provenance": []
  },
  "kernelspec": {
   "display_name": "Python 3 (ipykernel)",
   "language": "python",
   "name": "python3"
  },
  "language_info": {
   "codemirror_mode": {
    "name": "ipython",
    "version": 3
   },
   "file_extension": ".py",
   "mimetype": "text/x-python",
   "name": "python",
   "nbconvert_exporter": "python",
   "pygments_lexer": "ipython3",
   "version": "3.9.13"
  }
 },
 "nbformat": 4,
 "nbformat_minor": 1
}
